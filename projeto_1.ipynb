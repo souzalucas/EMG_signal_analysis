{
 "cells": [
  {
   "cell_type": "markdown",
   "metadata": {},
   "source": [
    "## Definição do *dataset*\n",
    "\n",
    "O *dataset* utilizado será o \"Electromyogram  (EMG)  Feature Reduction  Using Mutual ComponentsAnalysis for Multifunction  Prosthetic  Fingers Control\" [1]. Maiores informações podem ser vistas no site: https://www.rami-khushaba.com/electromyogram-emg-repository.html\n",
    "\n",
    "De acordo com a figura seguinte, neste *dataset* existem 15 movimentos de 8 pessoas diferentes. Algumas questões de projetos foram levadas em consideração:\n",
    "1. Cada pessoa possui uma pasta com 45 arquivos .csv, cada arquivo refere-se à 1 movimento. Cada movimento possui 3 tentativas.\n",
    "2. São 8 eletrodos no total e cada movimento possui 80.000 samples por eletrodo.\n",
    "\n",
    "![15 movimentos](https://i.imgur.com/JpQrmRt.png)\n",
    "\n",
    "[1] Rami N. Khushaba, Sarath Kodagoda, Dikai Liu, and Gamini Dissanayake \"Electromyogram  (EMG)  Feature Reduction  Using Mutual ComponentsAnalysis for Multifunction  Prosthetic  Fingers Control\". https://onedrive.live.com/?authkey=%21Ar1wo75HiU9RrLM&cid=AAA78954F15E6559&id=AAA78954F15E6559%21316&parId=AAA78954F15E6559%21312&o=OneUp\n",
    "\n"
   ]
  },
  {
   "cell_type": "markdown",
   "metadata": {},
   "source": [
    "### Dependências"
   ]
  },
  {
   "cell_type": "code",
   "execution_count": 2,
   "metadata": {},
   "outputs": [],
   "source": [
    "import numpy as np\n",
    "from numpy import genfromtxt\n",
    "import math\n",
    "from librosa import stft\n",
    "from scipy.signal import stft\n",
    "\n",
    "from sklearn.model_selection import train_test_split\n",
    "from sklearn.svm import SVC"
   ]
  },
  {
   "cell_type": "markdown",
   "metadata": {},
   "source": [
    "### Carregando dataset\n",
    "\n",
    "Shape da matriz: 15 movimentos, 3 tentativas, 8 eletrodos, 80.000 samples"
   ]
  },
  {
   "cell_type": "code",
   "execution_count": 18,
   "metadata": {},
   "outputs": [
    {
     "name": "stdout",
     "output_type": "stream",
     "text": [
      "(15, 3, 8, 80000)\n"
     ]
    }
   ],
   "source": [
    "from glob import glob\n",
    "\n",
    "# Obtendo lista dos arquivos\n",
    "arquivos = glob(\"./Delsys_8Chans_15Classes/S1-Delsys-15Class/*.csv\")\n",
    "\n",
    "# Ordenando por ordem alfabética\n",
    "arquivos.sort()\n",
    "\n",
    "# Criando matriz do dataset\n",
    "i = 0\n",
    "X1 = list()\n",
    "while(i < 45):\n",
    "    listaTrial = list()\n",
    "    for j in range(3):\n",
    "        listaTrial.append(genfromtxt(arquivos[i], delimiter=',', unpack=True))\n",
    "        i+=1\n",
    "    X1.append(listaTrial)\n",
    "\n",
    "X1 = np.asarray(X1)\n",
    "print(X1.shape)"
   ]
  },
  {
   "cell_type": "markdown",
   "metadata": {},
   "source": [
    "### Segmentação dos dados"
   ]
  },
  {
   "cell_type": "code",
   "execution_count": 4,
   "metadata": {
    "scrolled": false
   },
   "outputs": [
    {
     "name": "stdout",
     "output_type": "stream",
     "text": [
      "(15, 3, 8, 80000)\n",
      "(15, 3, 8, 158, 1024)\n"
     ]
    }
   ],
   "source": [
    "data = X1[:,:,:,0:80000]\n",
    "print(data.shape)\n",
    "# Definição do salto e do tamanho do segmento (segmento - salto = sobreposição)\n",
    "salto = 500\n",
    "segmento = 1024\n",
    "n_win = int((data.shape[-1] - segmento) / salto) + 1\n",
    "ids = np.arange(n_win) * salto\n",
    "x = np.array([data[:,:,:,k:(k + segmento)] for k in ids]).transpose(1, 2, 3, 0, 4)\n",
    "print(x.shape)"
   ]
  },
  {
   "cell_type": "markdown",
   "metadata": {},
   "source": [
    "### Extraindo características no domínio do tempo"
   ]
  },
  {
   "cell_type": "markdown",
   "metadata": {},
   "source": [
    "* `Mean Absolute Value (MAV)`: \n",
    "    > $\\frac{1}{N}\\sum_{i=1}^{N}|x_i|$"
   ]
  },
  {
   "cell_type": "code",
   "execution_count": 5,
   "metadata": {
    "scrolled": false
   },
   "outputs": [
    {
     "name": "stdout",
     "output_type": "stream",
     "text": [
      "(15, 3, 8, 158, 1024)\n",
      "(15, 3, 8, 158)\n"
     ]
    }
   ],
   "source": [
    "print(x.shape)\n",
    "mav = np.sum(abs(x)/segmento, axis=-1)\n",
    "print(mav.shape)"
   ]
  },
  {
   "cell_type": "markdown",
   "metadata": {},
   "source": [
    "* `Variance of EMG (VAR)`: \n",
    "    > $\\frac{1}{N-1}\\sum_{i=1}^{N}x_i^2$"
   ]
  },
  {
   "cell_type": "code",
   "execution_count": 6,
   "metadata": {
    "scrolled": false
   },
   "outputs": [
    {
     "name": "stdout",
     "output_type": "stream",
     "text": [
      "(15, 3, 8, 158, 1024)\n",
      "(15, 3, 8, 158)\n"
     ]
    }
   ],
   "source": [
    "print(x.shape)\n",
    "var = np.sum(np.power(x, 2)/(segmento-1), axis=-1)\n",
    "print(var.shape)"
   ]
  },
  {
   "cell_type": "markdown",
   "metadata": {},
   "source": [
    "* `Simple Square Integral (SSI)`: \n",
    "    > $\\sum_{i=1}^{N}|x_i|^2$"
   ]
  },
  {
   "cell_type": "code",
   "execution_count": 7,
   "metadata": {
    "scrolled": true
   },
   "outputs": [
    {
     "name": "stdout",
     "output_type": "stream",
     "text": [
      "(15, 3, 8, 158, 1024)\n",
      "(15, 3, 8, 158)\n"
     ]
    }
   ],
   "source": [
    "print(x.shape)\n",
    "ssi = np.sum(np.power(abs(x), 2), axis=-1)\n",
    "print(ssi.shape)"
   ]
  },
  {
   "cell_type": "markdown",
   "metadata": {},
   "source": [
    "* `Root Mean Square (RMS)`: \n",
    "    > $\\sqrt{\\frac{1}{N}\\sum_{i=1}^{N}|x_i|^2}$"
   ]
  },
  {
   "cell_type": "code",
   "execution_count": 8,
   "metadata": {
    "scrolled": false
   },
   "outputs": [
    {
     "name": "stdout",
     "output_type": "stream",
     "text": [
      "(15, 3, 8, 158, 1024)\n",
      "(15, 3, 8, 158)\n"
     ]
    }
   ],
   "source": [
    "print(x.shape)\n",
    "rms = np.sqrt(np.sum((np.power(abs(x), 2))/segmento, axis=-1))\n",
    "print(rms.shape)"
   ]
  },
  {
   "cell_type": "markdown",
   "metadata": {},
   "source": [
    "### Extraindo características no domínio da frequência\n",
    "\n",
    "#### Transformação para o domínio da frequência\n",
    "\n",
    "Aplicando stft no último eixo de data (3), com janela de 1024 e sobreposição de 512."
   ]
  },
  {
   "cell_type": "code",
   "execution_count": 9,
   "metadata": {
    "scrolled": true
   },
   "outputs": [
    {
     "name": "stdout",
     "output_type": "stream",
     "text": [
      "(15, 3, 8, 80000)\n",
      "(15, 3, 8, 158, 513)\n"
     ]
    }
   ],
   "source": [
    "print(data.shape)\n",
    "_, _, w = stft(data, fs=4000, nperseg=1024, noverlap=512)\n",
    "w = np.swapaxes(w, 3, 4)\n",
    "print(w.shape)"
   ]
  },
  {
   "cell_type": "markdown",
   "metadata": {},
   "source": [
    "#### Power Spectrum Density (PSD)\n",
    "\n",
    "Quadrado do valor absoluto de FFT."
   ]
  },
  {
   "cell_type": "code",
   "execution_count": 10,
   "metadata": {
    "scrolled": false
   },
   "outputs": [
    {
     "name": "stdout",
     "output_type": "stream",
     "text": [
      "(15, 3, 8, 158, 513)\n"
     ]
    }
   ],
   "source": [
    "psd = np.power(abs(w), 2)\n",
    "print(psd.shape)"
   ]
  },
  {
   "cell_type": "markdown",
   "metadata": {},
   "source": [
    "* `Frequency Median (FMD)`: \n",
    "    > $\\frac{1}{2}\\sum_{i=1}^{M}PSD$"
   ]
  },
  {
   "cell_type": "code",
   "execution_count": 11,
   "metadata": {},
   "outputs": [
    {
     "name": "stdout",
     "output_type": "stream",
     "text": [
      "(15, 3, 8, 158)\n"
     ]
    }
   ],
   "source": [
    "fmd = np.sum(psd/2, axis=-1)\n",
    "print(fmd.shape)"
   ]
  },
  {
   "cell_type": "markdown",
   "metadata": {},
   "source": [
    "* `Frequency Mean (FMN)`: \n",
    "    > $FMN = \\frac{\\sum_{i=1}^{M}f_i PSD}{\\sum_{i=1}^{M}PSD_i}$\n",
    "    \n",
    "    > $f_i = \\frac{i * SampleRate}{2M}$"
   ]
  },
  {
   "cell_type": "code",
   "execution_count": 12,
   "metadata": {
    "scrolled": false
   },
   "outputs": [
    {
     "name": "stdout",
     "output_type": "stream",
     "text": [
      "(15, 3, 8, 158)\n"
     ]
    }
   ],
   "source": [
    "sampleRate = 4000\n",
    "M = 513\n",
    "f = np.array([(i*sampleRate)/(2*M) for i in range(1,M+1)])\n",
    "\n",
    "fmn = np.divide((np.sum(np.multiply(psd,f), axis = -1)), (np.sum(psd, axis=-1)))\n",
    "\n",
    "print(fmn.shape)"
   ]
  },
  {
   "cell_type": "markdown",
   "metadata": {},
   "source": [
    "#### Criando vetor de características "
   ]
  },
  {
   "cell_type": "code",
   "execution_count": 13,
   "metadata": {
    "scrolled": false
   },
   "outputs": [
    {
     "data": {
      "text/plain": [
       "(7110, 48)"
      ]
     },
     "execution_count": 13,
     "metadata": {},
     "output_type": "execute_result"
    }
   ],
   "source": [
    "features = list()\n",
    "for feature in (mav, var, ssi, rms, fmd, fmn):\n",
    "    feature = feature.transpose(0, 1, 3, 2)\n",
    "    feature = feature.reshape(15 * 3 * 158, 8)\n",
    "#    print('Feature: {}'.format(feature), feature.shape)\n",
    "    features.append(feature)\n",
    "\n",
    "X = np.concatenate(features, axis=-1)\n",
    "X.shape"
   ]
  },
  {
   "cell_type": "markdown",
   "metadata": {},
   "source": [
    "#### Criando vetor de labels"
   ]
  },
  {
   "cell_type": "code",
   "execution_count": 14,
   "metadata": {
    "scrolled": true
   },
   "outputs": [
    {
     "data": {
      "text/plain": [
       "(7110,)"
      ]
     },
     "execution_count": 14,
     "metadata": {},
     "output_type": "execute_result"
    }
   ],
   "source": [
    "y = np.array([[str(i)] * int(X.shape[0] / 15) for i in range(15)])\n",
    "y = y.reshape(y.shape[0] * y.shape[1])\n",
    "y.shape"
   ]
  },
  {
   "cell_type": "markdown",
   "metadata": {},
   "source": [
    "#### Classificação\n",
    "\n",
    "Aplicando classificador SVC e testando acurácia para os diferentes valores de kernel, c e gamma."
   ]
  },
  {
   "cell_type": "code",
   "execution_count": 16,
   "metadata": {
    "scrolled": true
   },
   "outputs": [
    {
     "name": "stdout",
     "output_type": "stream",
     "text": [
      "Acurácia: 63.53% - kernel: rbf - gamma: 0.001 - C: 1\n"
     ]
    }
   ],
   "source": [
    "# dividindo as porções de dados em treino e teste (70 e 30% respectivamente)\n",
    "X_train, X_test, y_train, y_test = train_test_split(X, y, test_size=0.3, shuffle=True)\n",
    "C = 1\n",
    "gamma = 0.001\n",
    "kernel = 'rbf'\n",
    "clf = SVC(C=C, gamma=gamma, kernel=kernel)\n",
    "clf.fit(X_train, y_train)\n",
    "res = clf.predict(X_test)\n",
    "tot_hit = sum([1 for i in range(len(res)) if res[i] == y_test[i]])\n",
    "print('Acurácia: {:.2f}%'.format(tot_hit / X_test.shape[0] * 100), '- kernel:', kernel, '- gamma:', gamma, '- C:', C)"
   ]
  }
 ],
 "metadata": {
  "kernelspec": {
   "display_name": "Python 3",
   "language": "python",
   "name": "python3"
  },
  "language_info": {
   "codemirror_mode": {
    "name": "ipython",
    "version": 3
   },
   "file_extension": ".py",
   "mimetype": "text/x-python",
   "name": "python",
   "nbconvert_exporter": "python",
   "pygments_lexer": "ipython3",
   "version": "3.5.2"
  }
 },
 "nbformat": 4,
 "nbformat_minor": 2
}

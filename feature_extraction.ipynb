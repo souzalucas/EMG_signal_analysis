{
 "cells": [
  {
   "cell_type": "markdown",
   "metadata": {},
   "source": [
    "## Definição do *dataset*\n",
    "\n",
    "O *dataset* utilizado será o \"Detecting Individual and Combined Fingers Movements\" [1]. Maiores informações podem ser vistas no site: https://www.rami-khushaba.com/electromyogram-emg-repository.html\n",
    "\n",
    "De acordo com a figura seguinte, neste *dataset* existem 15 movimentos. Algumas questões de projetos foram levadas em consideração:\n",
    "1. Cada \n",
    "\n",
    "[1] R. N. Khushaba, Maen Takruri, Jaime Valls Miro, and Sarath Kodagoda, \"Towards limb position invariant myoelectric pattern recognition using time-dependent spectral features\", Neural Networks, vol. 55, pp. 42-58, 2014. https://doi.org/10.1016/j.neunet.2014.03.010\n"
   ]
  },
  {
   "cell_type": "code",
   "execution_count": 1,
   "metadata": {},
   "outputs": [],
   "source": [
    "# Dependências\n",
    "import numpy as np\n",
    "from numpy import genfromtxt\n",
    "import matplotlib.pyplot as plt\n",
    "from mpl_toolkits.mplot3d import Axes3D\n",
    "from matplotlib import cm\n",
    "import math\n",
    "from librosa import stft\n",
    "from sklearn import svm"
   ]
  },
  {
   "cell_type": "code",
   "execution_count": 2,
   "metadata": {
    "scrolled": false
   },
   "outputs": [
    {
     "name": "stdout",
     "output_type": "stream",
     "text": [
      "(15, 3, 8, 80000)\n"
     ]
    }
   ],
   "source": [
    "# Obtendo dados\n",
    "data = np.array([[genfromtxt('./Delsys_8Chans_15Classes/S1-Delsys-15Class/HC_1.csv', delimiter=',', unpack=True),\n",
    "                 genfromtxt('./Delsys_8Chans_15Classes/S1-Delsys-15Class/HC_2.csv', delimiter=',', unpack=True),\n",
    "                 genfromtxt('./Delsys_8Chans_15Classes/S1-Delsys-15Class/HC_3.csv', delimiter=',', unpack=True)],\n",
    "                [genfromtxt('./Delsys_8Chans_15Classes/S1-Delsys-15Class/I_I1.csv', delimiter=',', unpack=True),\n",
    "                 genfromtxt('./Delsys_8Chans_15Classes/S1-Delsys-15Class/I_I2.csv', delimiter=',', unpack=True),\n",
    "                 genfromtxt('./Delsys_8Chans_15Classes/S1-Delsys-15Class/I_I3.csv', delimiter=',', unpack=True)],\n",
    "                [genfromtxt('./Delsys_8Chans_15Classes/S1-Delsys-15Class/I_M1.csv', delimiter=',', unpack=True),\n",
    "                 genfromtxt('./Delsys_8Chans_15Classes/S1-Delsys-15Class/I_M2.csv', delimiter=',', unpack=True),\n",
    "                 genfromtxt('./Delsys_8Chans_15Classes/S1-Delsys-15Class/I_M3.csv', delimiter=',', unpack=True)],\n",
    "                [genfromtxt('./Delsys_8Chans_15Classes/S1-Delsys-15Class/IMR1.csv', delimiter=',', unpack=True),\n",
    "                 genfromtxt('./Delsys_8Chans_15Classes/S1-Delsys-15Class/IMR2.csv', delimiter=',', unpack=True),\n",
    "                 genfromtxt('./Delsys_8Chans_15Classes/S1-Delsys-15Class/IMR3.csv', delimiter=',', unpack=True)],\n",
    "                [genfromtxt('./Delsys_8Chans_15Classes/S1-Delsys-15Class/L_L1.csv', delimiter=',', unpack=True),\n",
    "                 genfromtxt('./Delsys_8Chans_15Classes/S1-Delsys-15Class/L_L2.csv', delimiter=',', unpack=True),\n",
    "                 genfromtxt('./Delsys_8Chans_15Classes/S1-Delsys-15Class/L_L3.csv', delimiter=',', unpack=True)],\n",
    "                [genfromtxt('./Delsys_8Chans_15Classes/S1-Delsys-15Class/M_M1.csv', delimiter=',', unpack=True),\n",
    "                 genfromtxt('./Delsys_8Chans_15Classes/S1-Delsys-15Class/M_M2.csv', delimiter=',', unpack=True),\n",
    "                 genfromtxt('./Delsys_8Chans_15Classes/S1-Delsys-15Class/M_M3.csv', delimiter=',', unpack=True)],\n",
    "                [genfromtxt('./Delsys_8Chans_15Classes/S1-Delsys-15Class/M_R1.csv', delimiter=',', unpack=True),\n",
    "                 genfromtxt('./Delsys_8Chans_15Classes/S1-Delsys-15Class/M_R2.csv', delimiter=',', unpack=True),\n",
    "                 genfromtxt('./Delsys_8Chans_15Classes/S1-Delsys-15Class/M_R3.csv', delimiter=',', unpack=True)],\n",
    "                [genfromtxt('./Delsys_8Chans_15Classes/S1-Delsys-15Class/MRL1.csv', delimiter=',', unpack=True),\n",
    "                 genfromtxt('./Delsys_8Chans_15Classes/S1-Delsys-15Class/MRL2.csv', delimiter=',', unpack=True),\n",
    "                 genfromtxt('./Delsys_8Chans_15Classes/S1-Delsys-15Class/MRL3.csv', delimiter=',', unpack=True)],\n",
    "                [genfromtxt('./Delsys_8Chans_15Classes/S1-Delsys-15Class/R_L1.csv', delimiter=',', unpack=True),\n",
    "                 genfromtxt('./Delsys_8Chans_15Classes/S1-Delsys-15Class/R_L2.csv', delimiter=',', unpack=True),\n",
    "                 genfromtxt('./Delsys_8Chans_15Classes/S1-Delsys-15Class/R_L3.csv', delimiter=',', unpack=True)],\n",
    "                [genfromtxt('./Delsys_8Chans_15Classes/S1-Delsys-15Class/R_R1.csv', delimiter=',', unpack=True),\n",
    "                 genfromtxt('./Delsys_8Chans_15Classes/S1-Delsys-15Class/R_R2.csv', delimiter=',', unpack=True),\n",
    "                 genfromtxt('./Delsys_8Chans_15Classes/S1-Delsys-15Class/R_R3.csv', delimiter=',', unpack=True)],\n",
    "                [genfromtxt('./Delsys_8Chans_15Classes/S1-Delsys-15Class/T_I1.csv', delimiter=',', unpack=True),\n",
    "                 genfromtxt('./Delsys_8Chans_15Classes/S1-Delsys-15Class/T_I2.csv', delimiter=',', unpack=True),\n",
    "                 genfromtxt('./Delsys_8Chans_15Classes/S1-Delsys-15Class/T_I3.csv', delimiter=',', unpack=True)],\n",
    "                [genfromtxt('./Delsys_8Chans_15Classes/S1-Delsys-15Class/T_L1.csv', delimiter=',', unpack=True),\n",
    "                 genfromtxt('./Delsys_8Chans_15Classes/S1-Delsys-15Class/T_L2.csv', delimiter=',', unpack=True),\n",
    "                 genfromtxt('./Delsys_8Chans_15Classes/S1-Delsys-15Class/T_L3.csv', delimiter=',', unpack=True)],\n",
    "                [genfromtxt('./Delsys_8Chans_15Classes/S1-Delsys-15Class/T_M1.csv', delimiter=',', unpack=True),\n",
    "                 genfromtxt('./Delsys_8Chans_15Classes/S1-Delsys-15Class/T_M2.csv', delimiter=',', unpack=True),\n",
    "                 genfromtxt('./Delsys_8Chans_15Classes/S1-Delsys-15Class/T_M3.csv', delimiter=',', unpack=True)],\n",
    "                [genfromtxt('./Delsys_8Chans_15Classes/S1-Delsys-15Class/T_R1.csv', delimiter=',', unpack=True),\n",
    "                 genfromtxt('./Delsys_8Chans_15Classes/S1-Delsys-15Class/T_R2.csv', delimiter=',', unpack=True),\n",
    "                 genfromtxt('./Delsys_8Chans_15Classes/S1-Delsys-15Class/T_R3.csv', delimiter=',', unpack=True)],\n",
    "                [genfromtxt('./Delsys_8Chans_15Classes/S1-Delsys-15Class/T_T1.csv', delimiter=',', unpack=True),\n",
    "                 genfromtxt('./Delsys_8Chans_15Classes/S1-Delsys-15Class/T_T2.csv', delimiter=',', unpack=True),\n",
    "                 genfromtxt('./Delsys_8Chans_15Classes/S1-Delsys-15Class/T_T3.csv', delimiter=',', unpack=True)]]\n",
    "               )\n",
    "\n",
    "print(data.shape)"
   ]
  },
  {
   "cell_type": "code",
   "execution_count": 3,
   "metadata": {
    "scrolled": true
   },
   "outputs": [
    {
     "name": "stdout",
     "output_type": "stream",
     "text": [
      "(15, 3, 8, 33, 800)\n"
     ]
    }
   ],
   "source": [
    "# Segmentando os dados\n",
    "# Definição do salto e do tamanho do segmento (segmento - salto = sobreposição)\n",
    "salto = 600\n",
    "segmento = 800\n",
    "n_win = int((20000 - segmento) / salto) + 1\n",
    "ids = np.arange(n_win) * salto\n",
    "x = np.array([data[:,:,:,k:(k + segmento)] for k in ids]).transpose(1, 2, 3, 0, 4)\n",
    "print(x.shape)"
   ]
  },
  {
   "cell_type": "code",
   "execution_count": 4,
   "metadata": {},
   "outputs": [],
   "source": [
    "# Domínio do tempo"
   ]
  },
  {
   "cell_type": "code",
   "execution_count": 5,
   "metadata": {},
   "outputs": [
    {
     "name": "stdout",
     "output_type": "stream",
     "text": [
      "(15, 3, 8, 33, 800)\n",
      "(15, 3, 8, 33)\n"
     ]
    }
   ],
   "source": [
    "# Calculando o MAV\n",
    "print(x.shape)\n",
    "mav = np.sum(abs(x)/800, axis=-1)\n",
    "print(mav.shape)"
   ]
  },
  {
   "cell_type": "code",
   "execution_count": 6,
   "metadata": {
    "scrolled": false
   },
   "outputs": [
    {
     "name": "stdout",
     "output_type": "stream",
     "text": [
      "(15, 3, 8, 33, 800)\n",
      "(15, 3, 8, 33)\n"
     ]
    }
   ],
   "source": [
    "# Calculando VAR\n",
    "print(x.shape)\n",
    "var = np.sum(np.power(x, 2)/799, axis=-1)\n",
    "print(var.shape)"
   ]
  },
  {
   "cell_type": "code",
   "execution_count": 7,
   "metadata": {},
   "outputs": [
    {
     "name": "stdout",
     "output_type": "stream",
     "text": [
      "(15, 3, 8, 33, 800)\n",
      "(15, 3, 8, 33)\n"
     ]
    }
   ],
   "source": [
    "# Calculando SSI\n",
    "print(x.shape)\n",
    "ssi = np.sum(np.power(abs(x), 2), axis=-1)\n",
    "print(ssi.shape)"
   ]
  },
  {
   "cell_type": "code",
   "execution_count": 8,
   "metadata": {
    "scrolled": true
   },
   "outputs": [
    {
     "name": "stdout",
     "output_type": "stream",
     "text": [
      "(15, 3, 8, 33, 800)\n",
      "(15, 3, 8, 33)\n"
     ]
    }
   ],
   "source": [
    "# Calculando RMS\n",
    "print(x.shape)\n",
    "rms = np.sqrt(np.sum((np.power(abs(x), 2))/800, axis=-1))\n",
    "print(rms.shape)"
   ]
  },
  {
   "cell_type": "code",
   "execution_count": 9,
   "metadata": {},
   "outputs": [],
   "source": [
    "# Domínio da frequência"
   ]
  },
  {
   "cell_type": "code",
   "execution_count": 21,
   "metadata": {
    "scrolled": true
   },
   "outputs": [
    {
     "name": "stdout",
     "output_type": "stream",
     "text": [
      "(15, 3, 8, 33, 401)\n"
     ]
    }
   ],
   "source": [
    "# Calculando FFT\n",
    "# shape: [15 movimentos, 3 trials, 8 eletrodos, 20000 samples]\n",
    "# Aplicando stft no último eixo de data (3), com janela de 800 e sobreposição de 600\n",
    "w = np.apply_along_axis(stft, 3, data[:,:,:,0:19200], n_fft=800, hop_length=600)\n",
    "w = np.swapaxes(w, 3, 4)\n",
    "print(w.shape)"
   ]
  },
  {
   "cell_type": "code",
   "execution_count": 22,
   "metadata": {
    "scrolled": true
   },
   "outputs": [
    {
     "name": "stdout",
     "output_type": "stream",
     "text": [
      "(15, 3, 8, 33, 401)\n"
     ]
    }
   ],
   "source": [
    "# Calculando PSD\n",
    "psd = np.power(abs(w), 2)\n",
    "print(psd.shape)"
   ]
  },
  {
   "cell_type": "code",
   "execution_count": 23,
   "metadata": {},
   "outputs": [
    {
     "name": "stdout",
     "output_type": "stream",
     "text": [
      "(15, 3, 8, 33)\n"
     ]
    }
   ],
   "source": [
    "# Calculando FMD\n",
    "fmd = np.sum(psd/2, axis=-1)\n",
    "print(fmd.shape)"
   ]
  },
  {
   "cell_type": "code",
   "execution_count": 24,
   "metadata": {
    "scrolled": true
   },
   "outputs": [
    {
     "name": "stdout",
     "output_type": "stream",
     "text": [
      "(15, 3, 8, 33)\n"
     ]
    }
   ],
   "source": [
    "# Calculando FMN\n",
    "\n",
    "sampleRate = 4000\n",
    "M = 401\n",
    "f = np.array([(i*sampleRate)/(2*M) for i in range(1,M+1)])\n",
    "\n",
    "fmn = np.divide((np.sum(np.multiply(psd,f), axis = -1)), (np.sum(psd, axis=-1)))\n",
    "\n",
    "print(fmn.shape)"
   ]
  },
  {
   "cell_type": "code",
   "execution_count": 52,
   "metadata": {},
   "outputs": [
    {
     "name": "stdout",
     "output_type": "stream",
     "text": [
      "(6 características, 15 movimentos, 3 tentativas, 8 eletrodos, 33 segmentos)\n",
      "(6, 15, 3, 8, 33)\n",
      "(8, 6, 495)\n"
     ]
    }
   ],
   "source": [
    "# Juntando características\n",
    "features = np.array([mav, var, ssi, rms, fmd, fmn])\n",
    "print(\"(6 características, 15 movimentos, 3 tentativas, 8 eletrodos, 33 segmentos)\")\n",
    "print(features.shape)\n",
    "\n",
    "# Seperando treinamento\n",
    "featuresTraining = features[:,:,0,:,:].transpose(1,3,0,2)\n",
    "featuresTraining = np.concatenate(featuresTraining).transpose(2,1,0)\n",
    "print(featuresTraining.shape)"
   ]
  },
  {
   "cell_type": "code",
   "execution_count": 27,
   "metadata": {},
   "outputs": [
    {
     "name": "stdout",
     "output_type": "stream",
     "text": [
      "(6, 15, 3, 8, 33)\n"
     ]
    }
   ],
   "source": [
    "# Aplicando a media nas trials\n",
    "features = np.array([mav, var, ssi, rms, fmd, fmn])\n",
    "print(features.shape)\n",
    "features = features[:,:,0:2,:].transpose(0,2,1,3,4)\n",
    "#  # capturando as 2 trials\n",
    "# print(features.shape)\n",
    "\n",
    "# # Concatenando características\n",
    "# concatData = list()\n",
    "# for i in range(4):\n",
    "#     concatData.append(features[i,:,:,:].reshape(-1))\n",
    "\n",
    "# concatData = np.asarray(concatData).transpose(1,0)\n",
    "# print(concatData.shape)"
   ]
  },
  {
   "cell_type": "code",
   "execution_count": 17,
   "metadata": {
    "scrolled": true
   },
   "outputs": [
    {
     "name": "stdout",
     "output_type": "stream",
     "text": [
      "[12  8 14 14 14  3  3  3  3  3  3 14  3  3  6  3  5  3  3  3 11  3  6  6\n",
      "  3  6  6  5  6  6  6  6  6  2  2  6  6  6  6  6  2  2  2  2  6  2  2  2\n",
      "  2  2  2  2  2  2  2  2  2  2  2  2  2  2  2  2  2  2 15 15 15 15 15 15\n",
      " 15 15 15 15 15 15 15 15 15 15 15 15 15 15 15 15 15 15 15 15 15 15 15 15\n",
      " 15 15 15  2  2 15 15 15 15 15 15 15 15 15 15 15  2  2 15 15 15 15 15 15\n",
      " 15 15 15 15 15 15  2 15 15 15 15  2  8 12 12 12 12 12  8 14 14 14 14 14\n",
      " 14 14 14 14  3  3 14  3  3  3  3  3  3  3  3 14 14 14  3 14 14 14 14 14\n",
      " 14 14 14 14  3  3 14 14  3  6  3  5  3  6  6  6  6  6  6  6  6  6  6  6\n",
      "  2  2  2  2  2  6  1  1  1  1  1  1  1  1  1  1  1  1  1  1  1 12 12  1\n",
      "  1 12 12 12  1 12  1 12  1 12 12 12  1  1 12 12 12 12 12 12 12 12 12 12\n",
      " 12 12 12 12 12 12 12  8  8 12  8 14 14 14 14 14 14 12]\n"
     ]
    }
   ],
   "source": [
    "# Classificando\n",
    "\n",
    "# Aplicando SVM\n",
    "X = concatData\n",
    "y = list()\n",
    "\n",
    "for k in range(2):\n",
    "    j = 1\n",
    "    for i in range(1,3961):\n",
    "        y.append(j)\n",
    "        if((i%264)==0):\n",
    "            j+=1\n",
    "\n",
    "#print((y))\n",
    "clf = svm.SVC(gamma='auto')\n",
    "clf.fit(X, y)\n",
    "print(clf.predict(concatData[0:258,:]))"
   ]
  }
 ],
 "metadata": {
  "kernelspec": {
   "display_name": "Python 3",
   "language": "python",
   "name": "python3"
  },
  "language_info": {
   "codemirror_mode": {
    "name": "ipython",
    "version": 3
   },
   "file_extension": ".py",
   "mimetype": "text/x-python",
   "name": "python",
   "nbconvert_exporter": "python",
   "pygments_lexer": "ipython3",
   "version": "3.5.2"
  }
 },
 "nbformat": 4,
 "nbformat_minor": 2
}

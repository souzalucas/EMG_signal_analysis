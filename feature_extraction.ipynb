{
 "cells": [
  {
   "cell_type": "code",
   "execution_count": 3,
   "metadata": {},
   "outputs": [],
   "source": [
    "## Dependências"
   ]
  },
  {
   "cell_type": "code",
   "execution_count": 2,
   "metadata": {},
   "outputs": [],
   "source": [
    "import numpy as np\n",
    "from numpy import genfromtxt\n",
    "import matplotlib.pyplot as plt\n",
    "from mpl_toolkits.mplot3d import Axes3D\n",
    "from matplotlib import cm\n",
    "import math"
   ]
  },
  {
   "cell_type": "code",
   "execution_count": null,
   "metadata": {},
   "outputs": [],
   "source": [
    "## Obtendo dados do arquivo"
   ]
  },
  {
   "cell_type": "code",
   "execution_count": 3,
   "metadata": {
    "scrolled": false
   },
   "outputs": [
    {
     "name": "stdout",
     "output_type": "stream",
     "text": [
      "[[-1.900023e-04 -1.507825e-04  2.151610e-04 ... -3.369955e-04\n",
      "   1.587623e-04 -4.185144e-04]\n",
      " [-9.989401e-05 -1.193418e-04  2.325020e-04 ... -3.097686e-04\n",
      "  -3.053928e-04 -2.180396e-04]\n",
      " [-3.465141e-06 -8.952183e-05  2.412535e-04 ... -2.645523e-04\n",
      "  -7.791097e-04 -3.069211e-05]\n",
      " ...\n",
      " [ 2.386605e-04  1.539003e-04  9.458438e-05 ...  1.033359e-04\n",
      "  -1.457677e-03  8.875003e-05]\n",
      " [ 2.195368e-04  1.351007e-04  8.388807e-05 ...  1.034980e-04\n",
      "  -1.477449e-03  8.550872e-05]\n",
      " [ 1.709172e-04  8.761557e-05  5.552663e-05 ...  9.377406e-05\n",
      "  -1.431260e-03 -4.625038e-05]]\n"
     ]
    }
   ],
   "source": [
    "data = genfromtxt('./Delsys_8Chans_15Classes/S1-Delsys-15Class/HC_1.csv', delimiter=',')\n",
    "print(data)"
   ]
  },
  {
   "cell_type": "code",
   "execution_count": null,
   "metadata": {},
   "outputs": [],
   "source": [
    "## Segmentando os dados"
   ]
  },
  {
   "cell_type": "code",
   "execution_count": 4,
   "metadata": {},
   "outputs": [],
   "source": [
    "canais = list()\n",
    "for c in range(8):\n",
    "    seg = list()\n",
    "    l = 0\n",
    "    while(l < 20400):\n",
    "        seg.append(data[l:(l+800),c])\n",
    "        l = l + 600 # sobreposição de 50ms\n",
    "        \n",
    "    canais.append(seg)"
   ]
  },
  {
   "cell_type": "code",
   "execution_count": null,
   "metadata": {},
   "outputs": [],
   "source": [
    "## Calculando o MAV"
   ]
  },
  {
   "cell_type": "code",
   "execution_count": 5,
   "metadata": {
    "scrolled": true
   },
   "outputs": [
    {
     "name": "stdout",
     "output_type": "stream",
     "text": [
      "[2.3400503115287505e-05, 6.844535457500006e-06, 4.3932095374999564e-07, 1.6580364712500112e-06, 3.78582240825e-05, 1.2817037137500013e-06, 3.341970932624999e-05, 3.210751413749999e-05, 5.8014932639999945e-06, 4.659468607625004e-06, 1.6409194518750003e-05, 1.5242667311912497e-05, 1.53073709115e-05, 1.6761807853875007e-05, 9.293678490374995e-06, 1.5899591810000004e-05, 4.091156782e-05, 6.236234163749894e-07, 1.04948240375e-05, 1.1380330253749996e-05, 9.991528963749999e-06, 9.386149281249998e-06, 8.741409393749996e-06, 4.038042890000001e-06, 4.258237724999992e-06, 1.6992131092499997e-05, 1.0815012854037491e-05, 8.91458902125e-06, 1.16922430225e-05, 1.2665395065875008e-06, 2.3444349219375007e-05, 1.7878817315000012e-05, 1.3226035668749999e-05, 7.78860137625e-06]\n"
     ]
    }
   ],
   "source": [
    "mav_canal = list()\n",
    "for c in range(8):\n",
    "    mav_matrix = list()\n",
    "    for s in range(34):\n",
    "        mav_seg = (abs(np.sum(canais[c][s])))/800\n",
    "        mav_matrix.append(mav_seg)\n",
    "        \n",
    "    mav_canal.append(mav_matrix)\n",
    "    \n",
    "print(mav_canal[7])"
   ]
  },
  {
   "cell_type": "code",
   "execution_count": null,
   "metadata": {},
   "outputs": [],
   "source": [
    "## Calculando MAVS"
   ]
  },
  {
   "cell_type": "code",
   "execution_count": 6,
   "metadata": {
    "scrolled": true
   },
   "outputs": [
    {
     "name": "stdout",
     "output_type": "stream",
     "text": [
      "[-1.65559676577875e-05, -6.40521450375001e-06, 1.2187155175000156e-06, 3.620018761124999e-05, -3.657652036875e-05, 3.213800561249999e-05, -1.31219518875e-06, -2.63060208735e-05, -1.1420246563749907e-06, 1.1749725911124998e-05, -1.166527206837506e-06, 6.470359958750419e-08, 1.4544369423750056e-06, -7.468129363500012e-06, 6.605913319625009e-06, 2.5011976009999994e-05, -4.028794440362501e-05, 9.871200621125011e-06, 8.855062162499949e-07, -1.388801289999997e-06, -6.05379682500001e-07, -6.447398875000013e-07, -4.703366503749995e-06, 2.2019483499999071e-07, 1.2733893367500004e-05, -6.177118238462505e-06, -1.9004238327874921e-06, 2.77765400125e-06, -1.0425703515912499e-05, 2.2177809712787506e-05, -5.565531904374995e-06, -4.652781646250013e-06, -5.437434292499999e-06, -7.78860137625e-06]\n"
     ]
    }
   ],
   "source": [
    "mavs_canal = list()\n",
    "for c in range(8):\n",
    "    mavs_list = list()\n",
    "    for s in range(34):\n",
    "        mav_seg_ant = mav_canal[c][s]\n",
    "        if(s == 33):\n",
    "            mav_seg_prox = 0\n",
    "        else:\n",
    "            mav_seg_prox = mav_canal[c][s+1]\n",
    "            \n",
    "        mavs_list.append(mav_seg_prox - mav_seg_ant) \n",
    "        \n",
    "    mavs_canal.append(mavs_list)\n",
    "    \n",
    "print(mavs_canal[7])"
   ]
  },
  {
   "cell_type": "code",
   "execution_count": null,
   "metadata": {},
   "outputs": [],
   "source": [
    "## Calculando SSI"
   ]
  },
  {
   "cell_type": "code",
   "execution_count": 7,
   "metadata": {
    "scrolled": true
   },
   "outputs": [
    {
     "name": "stdout",
     "output_type": "stream",
     "text": [
      "[0.0007943000598780526, 0.0009025175707073575, 0.0008853760147459561, 0.0015199424356534587, 0.0013703345883796817, 0.001174042281489844, 0.0013158486137101711, 0.0010373226094639782, 0.0010027044022568113, 0.0010788969206545578, 0.0013227646988140463, 0.0011185210769810406, 0.0011099068579903306, 0.0016673355251005581, 0.0012955582396366992, 0.0008452316324179014, 0.0007516571087169016, 0.0007814756148139588, 0.000826264127448472, 0.0007409628319946213, 0.0005862225632018328, 0.0006909974067688372, 0.0005940627660036623, 0.000516393302539948, 0.0005374954934807935, 0.0006350231295947474, 0.001028276460274463, 0.000581396935443695, 0.0006539683385747834, 0.0006835760042026372, 0.0008790613485168313, 0.0009125607337085935, 0.0006740820467949939, 0.0006795324643735287]\n"
     ]
    }
   ],
   "source": [
    "ssi_canal = list()\n",
    "for c in range(8):\n",
    "    ssi_list = list()\n",
    "    for s in range(34):\n",
    "        soma = 0\n",
    "        for d in range(800):\n",
    "            data = abs(canais[c][s][d])\n",
    "            data_sqr = data * data\n",
    "            soma = soma + data_sqr\n",
    "            \n",
    "        ssi_list.append(soma)\n",
    "        \n",
    "    ssi_canal.append(ssi_list)\n",
    "    \n",
    "print(ssi_canal[7])"
   ]
  },
  {
   "cell_type": "code",
   "execution_count": null,
   "metadata": {},
   "outputs": [],
   "source": [
    "## Calculando RMS"
   ]
  },
  {
   "cell_type": "code",
   "execution_count": 8,
   "metadata": {
    "scrolled": true
   },
   "outputs": [
    {
     "name": "stdout",
     "output_type": "stream",
     "text": [
      "[0.001062192597062264, 0.0009259555319071881, 0.0009108178742003232, 0.0008363952039143282, 0.0007425114827416982, 0.0006206118121991764, 0.0005799602637893138, 0.00059693796674628, 0.0006328753672581834, 0.0006083422657852393, 0.0005818188715188465, 0.0007243153610656691, 0.0006172140757768649, 0.0006433547876439497, 0.000462190406358191, 0.0005285411113569269, 0.0005081725984979148, 0.0005636248677278231, 0.0005517539990071317, 0.000554522363220944, 0.0005065927526405063, 0.0005232211134614072, 0.00040514004131943096, 0.0004570177623444304, 0.0005967317788126365, 0.00048071320518674185, 0.00047942517477402664, 0.0005056850823185001, 0.0004734849469809951, 0.00043785811028644204, 0.00040598824430827015, 0.00046649021975957633, 0.00040182750635349554, 0.0004126086402408119]\n"
     ]
    }
   ],
   "source": [
    "rms_canal = list()\n",
    "for c in range(8):\n",
    "    rms_list = list()\n",
    "    for s in range(34):\n",
    "        soma = 0\n",
    "        for d in range(800):\n",
    "            data = abs(canais[c][s][d])\n",
    "            data_sqr = data * data\n",
    "            soma = soma + data_sqr\n",
    "            \n",
    "        media = soma/800\n",
    "        raiz = math.sqrt(media)\n",
    "        rms_list.append(raiz)\n",
    "        \n",
    "    rms_canal.append(rms_list)\n",
    "    \n",
    "print(rms_canal[0])"
   ]
  },
  {
   "cell_type": "code",
   "execution_count": null,
   "metadata": {},
   "outputs": [],
   "source": [
    "# Domínio da frequência"
   ]
  },
  {
   "cell_type": "code",
   "execution_count": null,
   "metadata": {},
   "outputs": [],
   "source": [
    "## Calculo FFT (teste)"
   ]
  },
  {
   "cell_type": "code",
   "execution_count": 18,
   "metadata": {},
   "outputs": [
    {
     "name": "stdout",
     "output_type": "stream",
     "text": [
      "[ 0.    1.25  2.5   3.75 -5.   -3.75 -2.5  -1.25]\n"
     ]
    }
   ],
   "source": [
    "lista = list()\n",
    "lista.append(-2)\n",
    "lista.append(8)\n",
    "lista.append(6)\n",
    "lista.append(4)\n",
    "lista.append(1)\n",
    "lista.append(0)\n",
    "lista.append(3)\n",
    "lista.append(5)\n",
    "\n",
    "fourier = np.fft.fft(lista)\n",
    "tam = len(lista)\n",
    "tempo = 0.1\n",
    "frequencia = np.fft.fftfreq(tam, d=tempo)\n",
    "print(frequencia)\n"
   ]
  }
 ],
 "metadata": {
  "kernelspec": {
   "display_name": "Python 3",
   "language": "python",
   "name": "python3"
  },
  "language_info": {
   "codemirror_mode": {
    "name": "ipython",
    "version": 3
   },
   "file_extension": ".py",
   "mimetype": "text/x-python",
   "name": "python",
   "nbconvert_exporter": "python",
   "pygments_lexer": "ipython3",
   "version": "3.5.2"
  }
 },
 "nbformat": 4,
 "nbformat_minor": 2
}
